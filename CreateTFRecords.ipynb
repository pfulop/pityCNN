{
 "cells": [
  {
   "cell_type": "code",
   "execution_count": null,
   "metadata": {},
   "outputs": [],
   "source": [
    "def input_parser(img_path, label):\n",
    "    one_hot = tf.one_hot(label, NUM_CLASSES)\n",
    "    img_file = tf.read_file(img_path)\n",
    "    img_decode = tf.image.decode_image(img_file, channels = 3)\n",
    "    \n",
    "    return img_decoded, one_hot"
   ]
  },
  {
   "cell_type": "code",
   "execution_count": null,
   "metadata": {},
   "outputs": [],
   "source": [
    "def convert(train_images,train_labels, valid_images, valid_labels):\n",
    "    \n",
    "    train_imgs = tf.constant(train_images)\n",
    "    train_labels = tf.constant(train_labels)\n",
    "    \n",
    "    valid_imgs = tf.constant(train_images)\n",
    "    valid_labels = tf.constant(train_labels)\n",
    "    \n",
    "    \n",
    "    tr_data = Dataset.from_tensor_slices((valid_imgs, train_labels))\n",
    "    val_data = Dataset.from_tensor_slices((valid_labels, val_labels))\n",
    "    \n",
    "    if mode == 'training':\n",
    "    tr_data = tr_data.map(input_parser, num_threads=8,\n",
    "                    output_buffer_size=100*batch_size)\n",
    "    \n",
    "    elif mode == 'inference':\n",
    "        tr_data = tr_data.map(input_parser, num_threads=8,\n",
    "                        output_buffer_size=100*batch_size)\n",
    "    \n",
    "    tr_data = tr_data.batch(batch_size)\n",
    "    "
   ]
  }
 ],
 "metadata": {
  "kernelspec": {
   "display_name": "Python 3",
   "language": "python",
   "name": "python3"
  },
  "language_info": {
   "codemirror_mode": {
    "name": "ipython",
    "version": 3
   },
   "file_extension": ".py",
   "mimetype": "text/x-python",
   "name": "python",
   "nbconvert_exporter": "python",
   "pygments_lexer": "ipython3",
   "version": "3.6.2"
  }
 },
 "nbformat": 4,
 "nbformat_minor": 2
}
