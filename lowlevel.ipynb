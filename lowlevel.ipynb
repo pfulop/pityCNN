{
 "cells": [
  {
   "cell_type": "code",
   "execution_count": 1,
   "metadata": {
    "collapsed": true
   },
   "outputs": [],
   "source": [
    "import tensorflow as tf"
   ]
  },
  {
   "cell_type": "code",
   "execution_count": 2,
   "metadata": {
    "collapsed": true
   },
   "outputs": [],
   "source": [
    "from pitycnn.inputs import Inputs\n",
    "from pitycnn.prep import prepare_data\n",
    "import numpy as np"
   ]
  },
  {
   "cell_type": "code",
   "execution_count": 3,
   "metadata": {
    "collapsed": true
   },
   "outputs": [],
   "source": [
    "batch_size = 32\n",
    "image_width = 234\n",
    "image_height = 234\n",
    "image_depth = 3\n",
    "num_labels = 120\n",
    "learning_rate = 0.001\n",
    "num_epochs = 10\n",
    "display_step = 1\n",
    "filewriter_path = \"model\""
   ]
  },
  {
   "cell_type": "code",
   "execution_count": 4,
   "metadata": {
    "collapsed": true
   },
   "outputs": [],
   "source": [
    "def block(inputs, filters, name, dropout, is_training):\n",
    "\n",
    "    conv1 = tf.layers.conv2d(inputs,\n",
    "                             filters,\n",
    "                             4,\n",
    "                             padding=\"same\",\n",
    "                             activation=tf.nn.relu,\n",
    "                             name=\"conv{}_1\".format(name))\n",
    "    conv2 = tf.layers.conv2d(conv1,\n",
    "                             filters,\n",
    "                             4,\n",
    "                             padding=\"same\",\n",
    "                             activation=tf.nn.relu,\n",
    "                             name=\"conv{}_2\".format(name))\n",
    "    conv3 = tf.layers.conv2d(conv2,\n",
    "                             filters,\n",
    "                             4,\n",
    "                             padding=\"same\",\n",
    "                             activation=tf.nn.relu,\n",
    "                             name=\"conv{}_3\".format(name))\n",
    "    pool = tf.layers.max_pooling2d(conv3,\n",
    "                                   pool_size=2,\n",
    "                                   strides=2,\n",
    "                                   name=\"pool{}\".format(name))\n",
    "\n",
    "    dropout = tf.layers.dropout(pool, dropout, training=is_training, name=\"dropout{}\".format(name))\n",
    "    return dropout"
   ]
  },
  {
   "cell_type": "code",
   "execution_count": 5,
   "metadata": {
    "collapsed": true
   },
   "outputs": [],
   "source": [
    "def model(inputs, is_training, output_size):\n",
    "    filters_size = [64, 128, 256, 512, 512]\n",
    "    filter_names = ['64', '128', '256', '512a', '512b']\n",
    "    dropouts = [0.1, 0.2, 0.3, 0.5, 0.5]\n",
    "    \n",
    "    with tf.name_scope(\"covnet\"):\n",
    "        inputs = tf.layers.batch_normalization(inputs, name=\"batch_normalization\")\n",
    "\n",
    "        for i, filter_size in enumerate(filters_size):\n",
    "            with tf.name_scope(\"conv-maxpool-{}s\".format(filter_names[i])):\n",
    "                inputs = block(inputs, filter_size, filter_names[i], dropouts[i], is_training)\n",
    "\n",
    "        with tf.name_scope(\"conv-dense\"):\n",
    "            inputs = tf.reshape(inputs, [-1, 7 * 7 * 512])\n",
    "            dense1 = tf.layers.dense(\n",
    "                inputs,\n",
    "                4096,\n",
    "                activation=tf.nn.relu,\n",
    "                name='dense1',\n",
    "            )\n",
    "            dropout = tf.layers.dropout(dense1, 0.5, training=is_training, name=\"dense_dropout\")\n",
    "            dense2 = tf.layers.dense(\n",
    "                dropout,\n",
    "                4096,\n",
    "                activation=tf.nn.relu,\n",
    "                name='dense2',\n",
    "            )\n",
    "            net = tf.layers.dense(\n",
    "                dense2,\n",
    "                output_size,\n",
    "                name='dense3',\n",
    "            )\n",
    "        return net\n",
    "        "
   ]
  },
  {
   "cell_type": "code",
   "execution_count": 6,
   "metadata": {},
   "outputs": [],
   "source": [
    "#1) First we put the input data in a tensorflow friendly form. \n",
    "tf_train_dataset = tf.placeholder(tf.float32, shape=(None, image_width, image_height, image_depth), name=\"inputs\")\n",
    "tf_train_labels = tf.placeholder(tf.float32, shape = (None, num_labels), name=\"labels\")\n",
    "\n",
    "logits = model(tf_train_dataset, True, num_labels)\n",
    "\n",
    "with tf.name_scope(\"loss\"):\n",
    "    loss = tf.reduce_mean(tf.nn.softmax_cross_entropy_with_logits(logits=logits, labels=tf_train_labels))\n",
    "\n",
    "optimizer = tf.train.AdamOptimizer(learning_rate).minimize(loss)\n",
    "\n",
    "with tf.name_scope(\"predictions\"):\n",
    "    train_prediction = tf.nn.softmax(logits)\n",
    "    \n",
    "tf.summary.scalar('cross_entropy', loss)\n",
    "\n",
    "with tf.name_scope(\"accuracy\"):\n",
    "        correct_pred = tf.equal(tf.argmax(logits, 1), tf.argmax(tf_train_labels, 1))\n",
    "        accuracy = tf.reduce_mean(tf.cast(correct_pred, tf.float32))\n",
    "       \n",
    "tf.summary.scalar('accuracy', accuracy)\n",
    "merged_summary = tf.summary.merge_all()\n",
    "writer = tf.summary.FileWriter(filewriter_path)\n",
    "saver = tf.train.Saver()\n"
   ]
  },
  {
   "cell_type": "code",
   "execution_count": 9,
   "metadata": {},
   "outputs": [
    {
     "ename": "NameError",
     "evalue": "name 'test_acc' is not defined",
     "output_type": "error",
     "traceback": [
      "\u001b[0;31m---------------------------------------------------------------------------\u001b[0m",
      "\u001b[0;31mNameError\u001b[0m                                 Traceback (most recent call last)",
      "\u001b[0;32m<ipython-input-9-fb345dee3e03>\u001b[0m in \u001b[0;36m<module>\u001b[0;34m()\u001b[0m\n\u001b[1;32m     46\u001b[0m             acc = sess.run(accuracy, feed_dict={tf_train_labels: batch_labels,\n\u001b[1;32m     47\u001b[0m                                                 tf_train_dataset: batch_data})#fix dropout\n\u001b[0;32m---> 48\u001b[0;31m             \u001b[0mtest_acc\u001b[0m \u001b[0;34m+=\u001b[0m \u001b[0macc\u001b[0m\u001b[0;34m\u001b[0m\u001b[0m\n\u001b[0m\u001b[1;32m     49\u001b[0m             \u001b[0mtest_count\u001b[0m \u001b[0;34m+=\u001b[0m \u001b[0;36m1\u001b[0m\u001b[0;34m\u001b[0m\u001b[0m\n\u001b[1;32m     50\u001b[0m         \u001b[0mtest_acc\u001b[0m \u001b[0;34m/=\u001b[0m \u001b[0mtest_count\u001b[0m\u001b[0;34m\u001b[0m\u001b[0m\n",
      "\u001b[0;31mNameError\u001b[0m: name 'test_acc' is not defined"
     ]
    }
   ],
   "source": [
    "files = '/Users/fulop/Downloads/dogbreed/sample/';\n",
    "\n",
    "train_images, train_labels, valid_images, valid_labels, n_classes = prepare_data(files)\n",
    "\n",
    "train_inputs = Inputs(train_images, train_labels, n_classes, batch_size=batch_size, shuffle=True)\n",
    "valid_inputs = Inputs(valid_images, valid_labels, n_classes, name=\"valid\", batch_size=batch_size)\n",
    "\n",
    "with tf.device('/cpu:0'):\n",
    "    iterator_train = train_inputs.generate_iterator()\n",
    "    iterator_valid = valid_inputs.generate_iterator()\n",
    "    next_batch = iterator_train.get_next()\n",
    "    next_batch_valid = iterator_valid.get_next()\n",
    "\n",
    "train_batches_per_epoch = int(np.floor(len(train_inputs.labels)/batch_size))\n",
    "\n",
    "valid_batches_per_epoch = int(np.floor(len(valid_inputs.labels)/batch_size))\n",
    "\n",
    "\n",
    "with tf.Session() as sess:\n",
    "     \n",
    "    tf.global_variables_initializer().run()\n",
    "    writer.add_graph(sess.graph)\n",
    "\n",
    "    for epoch in range(num_epochs):\n",
    "\n",
    "        sess.run(iterator_train.initializer)\n",
    "\n",
    "\n",
    "        for step in range(1):\n",
    "            batch_data, batch_labels = sess.run(next_batch)\n",
    "            feed_dict = {tf_train_dataset : batch_data, tf_train_labels : batch_labels}\n",
    "            _, l, predictions = sess.run([optimizer, loss, train_prediction], feed_dict=feed_dict)\n",
    "\n",
    "            if step % display_step == 0:\n",
    "                s = sess.run(merged_summary, feed_dict={tf_train_labels: batch_labels,\n",
    "                                                        logits: predictions})\n",
    "\n",
    "                writer.add_summary(s, epoch*train_batches_per_epoch + step)\n",
    "        \n",
    "        sess.run(iterator_valid.initializer)\n",
    "        valid_acc = 0.\n",
    "        valid_count = 0\n",
    "        for _ in range(valid_batches_per_epoch):\n",
    "\n",
    "            batch_data, batch_labels = sess.run(next_batch_valid)\n",
    "            acc = sess.run(accuracy, feed_dict={tf_train_labels: batch_labels,\n",
    "                                                tf_train_dataset: batch_data})#fix dropout\n",
    "            test_acc += acc\n",
    "            test_count += 1\n",
    "        test_acc /= test_count\n",
    "        print(\"{} Validation Accuracy = {:.4f}\".format(datetime.now(),\n",
    "                                                       test_acc))\n",
    "        \n",
    "        checkpoint_name = os.path.join(filewriter_path,\n",
    "                                       'model_epoch'+str(epoch+1)+'.ckpt')\n",
    "        save_path = saver.save(sess, checkpoint_name)\n"
   ]
  },
  {
   "cell_type": "code",
   "execution_count": null,
   "metadata": {},
   "outputs": [],
   "source": [
    "print(\"lol\")"
   ]
  },
  {
   "cell_type": "code",
   "execution_count": null,
   "metadata": {
    "collapsed": true
   },
   "outputs": [],
   "source": []
  }
 ],
 "metadata": {
  "kernelspec": {
   "display_name": "Python 3",
   "language": "python",
   "name": "python3"
  },
  "language_info": {
   "codemirror_mode": {
    "name": "ipython",
    "version": 3
   },
   "file_extension": ".py",
   "mimetype": "text/x-python",
   "name": "python",
   "nbconvert_exporter": "python",
   "pygments_lexer": "ipython3",
   "version": "3.6.2"
  }
 },
 "nbformat": 4,
 "nbformat_minor": 2
}
